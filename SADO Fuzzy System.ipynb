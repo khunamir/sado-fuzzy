{
 "cells": [
  {
   "cell_type": "markdown",
   "id": "dc91b3db",
   "metadata": {},
   "source": [
    "Import simpful module"
   ]
  },
  {
   "cell_type": "code",
   "execution_count": 1,
   "id": "3ee03d71",
   "metadata": {},
   "outputs": [],
   "source": [
    "from simpful import *"
   ]
  },
  {
   "cell_type": "markdown",
   "id": "3163ca57",
   "metadata": {},
   "source": [
    "Create an instance of FuzzySystem object"
   ]
  },
  {
   "cell_type": "code",
   "execution_count": 2,
   "id": "691bdbaa",
   "metadata": {},
   "outputs": [
    {
     "name": "stdout",
     "output_type": "stream",
     "text": [
      "  ____  __  _  _  ____  ____  _  _  __   \n",
      " / ___)(  )( \\/ )(  _ \\(  __)/ )( \\(  ) v2.5.0 \n",
      " \\___ \\ )( / \\/ \\ ) __/ ) _) ) \\/ (/ (_/\\ \n",
      " (____/(__)\\_)(_/(__)  (__)  \\____/\\____/\n",
      "\n",
      " Created by Marco S. Nobile (m.s.nobile@tue.nl)\n",
      " and Simone Spolaor (simone.spolaor@unimib.it)\n",
      "\n"
     ]
    }
   ],
   "source": [
    "FS = FuzzySystem()"
   ]
  },
  {
   "cell_type": "markdown",
   "id": "14ada3c7",
   "metadata": {},
   "source": [
    "### Define the Fuzzy Sets for all variables"
   ]
  },
  {
   "cell_type": "markdown",
   "id": "5fe4a5ca",
   "metadata": {},
   "source": [
    "Example"
   ]
  },
  {
   "cell_type": "code",
   "execution_count": 7,
   "id": "748f469f",
   "metadata": {},
   "outputs": [
    {
     "data": {
      "text/plain": [
       "'\\n    P1 = FuzzySet(function=Sigmoid_MF(c=40, a=0.1), term=\"low\")\\n    P2 = FuzzySet(function=InvSigmoid_MF(c=40, a=0.1), term=\"high\")\\n    LV1 = LinguisticVariable([P1,P2], concept=\"PaO2 level in blood\", universe_of_discourse=[0,80])\\n    FS.add_linguistic_variable(\"PaO2\", LV1)\\n    \\n    LV1.plot() - if you want to visualize the variable\\n    \\n    Do this for each variable\\n'"
      ]
     },
     "execution_count": 7,
     "metadata": {},
     "output_type": "execute_result"
    }
   ],
   "source": [
    "'''\n",
    "    P1 = FuzzySet(function=Sigmoid_MF(c=40, a=0.1), term=\"low\")\n",
    "    P2 = FuzzySet(function=InvSigmoid_MF(c=40, a=0.1), term=\"high\")\n",
    "    LV1 = LinguisticVariable([P1,P2], concept=\"PaO2 level in blood\", universe_of_discourse=[0,80])\n",
    "    FS.add_linguistic_variable(\"PaO2\", LV1)\n",
    "    \n",
    "    LV1.plot() - if you want to visualize the variable\n",
    "    \n",
    "    Do this for each variable\n",
    "'''"
   ]
  },
  {
   "cell_type": "markdown",
   "id": "69aaa42e",
   "metadata": {},
   "source": [
    "Weight"
   ]
  },
  {
   "cell_type": "markdown",
   "id": "6ad510fb",
   "metadata": {},
   "source": [
    "Height"
   ]
  },
  {
   "cell_type": "markdown",
   "id": "b2826b33",
   "metadata": {},
   "source": [
    "Age"
   ]
  },
  {
   "cell_type": "markdown",
   "id": "8d5ed040",
   "metadata": {},
   "source": [
    "BMI"
   ]
  },
  {
   "cell_type": "markdown",
   "id": "b8681625",
   "metadata": {},
   "source": [
    "Training Intensity"
   ]
  },
  {
   "cell_type": "markdown",
   "id": "70f4c700",
   "metadata": {},
   "source": [
    "Calorie Intake"
   ]
  },
  {
   "cell_type": "markdown",
   "id": "19858692",
   "metadata": {},
   "source": [
    "### Defining the consequents"
   ]
  },
  {
   "cell_type": "markdown",
   "id": "856b1ed1",
   "metadata": {},
   "source": [
    "Example"
   ]
  },
  {
   "cell_type": "code",
   "execution_count": 6,
   "id": "5442c284",
   "metadata": {},
   "outputs": [
    {
     "data": {
      "text/plain": [
       "'\\n    FS.set_crisp_output_value(\"low_probability\", 1)\\n    FS.set_crisp_output_value(\"high_probability\", 99)\\n'"
      ]
     },
     "execution_count": 6,
     "metadata": {},
     "output_type": "execute_result"
    }
   ],
   "source": [
    "'''\n",
    "    FS.set_crisp_output_value(\"low_probability\", 1)\n",
    "    FS.set_crisp_output_value(\"high_probability\", 99)\n",
    "'''"
   ]
  },
  {
   "cell_type": "markdown",
   "id": "a69636ef",
   "metadata": {},
   "source": [
    "### Define the Fuzzy Rules"
   ]
  },
  {
   "cell_type": "markdown",
   "id": "cc9de90a",
   "metadata": {},
   "source": [
    "Example"
   ]
  },
  {
   "cell_type": "code",
   "execution_count": 8,
   "id": "08f26b5e",
   "metadata": {},
   "outputs": [
    {
     "data": {
      "text/plain": [
       "'\\n    RULE1 = \"IF (PaO2 IS low) AND (Trombocytes IS high) \\n             AND (Creatinine IS high) \\n             AND (BaseExcess IS normal) \\n             THEN (Sepsis IS low_probability)\"\\n    RULE2 = \"IF (PaO2 IS high) \\n             AND (Trombocytes IS low) \\n             AND (Creatinine IS low) \\n             AND (NOT(BaseExcess IS normal)) \\n             THEN (Sepsis IS high_probability)\"\\n             \\n    We have to do this for 300+ rules O.O\\n'"
      ]
     },
     "execution_count": 8,
     "metadata": {},
     "output_type": "execute_result"
    }
   ],
   "source": [
    "'''\n",
    "    RULE1 = \"IF (PaO2 IS low) AND (Trombocytes IS high) \n",
    "             AND (Creatinine IS high) \n",
    "             AND (BaseExcess IS normal) \n",
    "             THEN (Sepsis IS low_probability)\"\n",
    "    RULE2 = \"IF (PaO2 IS high) \n",
    "             AND (Trombocytes IS low) \n",
    "             AND (Creatinine IS low) \n",
    "             AND (NOT(BaseExcess IS normal)) \n",
    "             THEN (Sepsis IS high_probability)\"\n",
    "             \n",
    "    We have to do this for 300+ rules O.O\n",
    "'''"
   ]
  },
  {
   "cell_type": "markdown",
   "id": "20d4fe2a",
   "metadata": {},
   "source": [
    "### Add Fuzzy Rules to the Fuzzy Reasoner object"
   ]
  },
  {
   "cell_type": "markdown",
   "id": "d51f67ea",
   "metadata": {},
   "source": [
    "Example"
   ]
  },
  {
   "cell_type": "code",
   "execution_count": 10,
   "id": "1ef74e50",
   "metadata": {},
   "outputs": [
    {
     "data": {
      "text/plain": [
       "'\\n    FS.add_rules([RULE1, RULE2])\\n    \\n    or in our case\\n    \\n    FS.add_rules([RULE1, RULE2, ..., RULE300])\\n'"
      ]
     },
     "execution_count": 10,
     "metadata": {},
     "output_type": "execute_result"
    }
   ],
   "source": [
    "'''\n",
    "    FS.add_rules([RULE1, RULE2])\n",
    "    \n",
    "    or in our case\n",
    "    \n",
    "    FS.add_rules([RULE1, RULE2, ..., RULE300])\n",
    "'''"
   ]
  },
  {
   "cell_type": "markdown",
   "id": "0d1c087d",
   "metadata": {},
   "source": [
    "### Set antecedent values"
   ]
  },
  {
   "cell_type": "markdown",
   "id": "9674a6c4",
   "metadata": {},
   "source": [
    "Example"
   ]
  },
  {
   "cell_type": "code",
   "execution_count": 4,
   "id": "95386c0a",
   "metadata": {},
   "outputs": [
    {
     "data": {
      "text/plain": [
       "'\\n    FS.set_variable(\"PaO2\", 50)\\n    FS.set_variable(\"BaseExcess\", -1.5)\\n    FS.set_variable(\"Trombocytes\", 50)\\n    FS.set_variable(\"Creatinine\", 320)\\n'"
      ]
     },
     "execution_count": 4,
     "metadata": {},
     "output_type": "execute_result"
    }
   ],
   "source": [
    "'''\n",
    "    FS.set_variable(\"PaO2\", 50)\n",
    "    FS.set_variable(\"BaseExcess\", -1.5)\n",
    "    FS.set_variable(\"Trombocytes\", 50)\n",
    "    FS.set_variable(\"Creatinine\", 320)\n",
    "'''"
   ]
  },
  {
   "cell_type": "markdown",
   "id": "afef8225",
   "metadata": {},
   "source": [
    "### Perform Mamdani inference and print output"
   ]
  },
  {
   "cell_type": "markdown",
   "id": "6d992a19",
   "metadata": {},
   "source": [
    "Example"
   ]
  },
  {
   "cell_type": "code",
   "execution_count": null,
   "id": "ea4879c3",
   "metadata": {},
   "outputs": [],
   "source": [
    "'''\n",
    "    print(FS.Sugeno_inference([\"Sepsis\"]))\n",
    "'''"
   ]
  }
 ],
 "metadata": {
  "kernelspec": {
   "display_name": "Python 3",
   "language": "python",
   "name": "python3"
  },
  "language_info": {
   "codemirror_mode": {
    "name": "ipython",
    "version": 3
   },
   "file_extension": ".py",
   "mimetype": "text/x-python",
   "name": "python",
   "nbconvert_exporter": "python",
   "pygments_lexer": "ipython3",
   "version": "3.8.8"
  }
 },
 "nbformat": 4,
 "nbformat_minor": 5
}
